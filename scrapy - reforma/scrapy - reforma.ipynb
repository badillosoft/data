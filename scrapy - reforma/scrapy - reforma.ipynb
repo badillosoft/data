{
 "cells": [
  {
   "cell_type": "markdown",
   "metadata": {},
   "source": [
    "# Recolección de notas periodísticas del periódico Reforma\n",
    "\n",
    "Autor: Alan Badillo Salas\n",
    "\n",
    "Correo: badillo.soft@hotmail.com\n",
    "\n",
    "Github: https://github.com/badillosoft/data\n",
    "\n",
    "13 de noviembre de 2020"
   ]
  },
  {
   "cell_type": "code",
   "execution_count": 1,
   "metadata": {},
   "outputs": [
    {
     "name": "stdout",
     "output_type": "stream",
     "text": [
      "Requirement already satisfied: requests in /Users/dragon/anaconda3/lib/python3.7/site-packages (2.21.0)\n",
      "Requirement already satisfied: chardet<3.1.0,>=3.0.2 in /Users/dragon/anaconda3/lib/python3.7/site-packages (from requests) (3.0.4)\n",
      "Requirement already satisfied: certifi>=2017.4.17 in /Users/dragon/anaconda3/lib/python3.7/site-packages (from requests) (2019.3.9)\n",
      "Requirement already satisfied: idna<2.9,>=2.5 in /Users/dragon/anaconda3/lib/python3.7/site-packages (from requests) (2.8)\n",
      "Requirement already satisfied: urllib3<1.25,>=1.21.1 in /Users/dragon/anaconda3/lib/python3.7/site-packages (from requests) (1.24.1)\n"
     ]
    }
   ],
   "source": [
    "! pip install requests"
   ]
  },
  {
   "cell_type": "code",
   "execution_count": 2,
   "metadata": {},
   "outputs": [],
   "source": [
    "import requests"
   ]
  },
  {
   "cell_type": "code",
   "execution_count": 23,
   "metadata": {},
   "outputs": [],
   "source": [
    "url = 'https://www.reforma.com'\n",
    "\n",
    "response = requests.get(url)"
   ]
  },
  {
   "cell_type": "code",
   "execution_count": 5,
   "metadata": {},
   "outputs": [
    {
     "data": {
      "text/plain": [
       "200"
      ]
     },
     "execution_count": 5,
     "metadata": {},
     "output_type": "execute_result"
    }
   ],
   "source": [
    "response.status_code"
   ]
  },
  {
   "cell_type": "code",
   "execution_count": 16,
   "metadata": {},
   "outputs": [
    {
     "data": {
      "text/plain": [
       "'<!DOCTYPE html PUBLIC \"-//W3C//DTD XHTML 1.0 Transitional//EN\" \"http://www.w3.org/TR/xhtml1/DTD/xhtml1-transitional.dtd\"><html xml:lang=\"es\" lang=\"es\" xmlns=\"http://www.w3.org/1999/xhtml\"><head><meta http-equiv=\"X-UA-Compatible\" content=\"IE=edge\" /><script>\\n\\t\\t\\t\\t\\t(function(w,d,s,l,i){w[l]=w[l]||[];w[l].push({\\'gtm.start\\':new Date().getTime(),event:\\'gtm.js\\'});var f=d.getElementsByTagName(s)[0],j=d.createElement(s),dl=l!=\\'dataLayer\\'?\\'&amp;l=\\'+l:\\'\\';j.async=true;j.src=\\'https://www.googletagmanager.com/gtm.js?id=\\'+i+dl;f.parentNode.insertBefore(j,f);})(window,document,\\'script\\',\\'dataLayer\\',\\'GTM-NNC39WZ\\');\\n\\t\\t\\t\\t</script><meta http-equiv=\"Content-Type\" content=\"text/html; charset=iso-8859-1\" /><meta http-equiv=\"CACHE-CONTROL\" content=\"NO-CACHE\" /><meta http-equiv=\"PRAGMA\" content=\"NO-CACHE\" /><meta name=\"robots\" content=\"INDEX,FOLLOW,NOARCHIVE\" /><meta name=\"description\" content=\"Noticias en tiempo real, contenido multimedia y los mejores editorialistas en la institución informativa con más credi'"
      ]
     },
     "execution_count": 16,
     "metadata": {},
     "output_type": "execute_result"
    }
   ],
   "source": [
    "html = response.text\n",
    "\n",
    "html[:1000]"
   ]
  },
  {
   "cell_type": "code",
   "execution_count": 8,
   "metadata": {},
   "outputs": [
    {
     "name": "stdout",
     "output_type": "stream",
     "text": [
      "Collecting bs4\n",
      "  Downloading https://files.pythonhosted.org/packages/10/ed/7e8b97591f6f456174139ec089c769f89a94a1a4025fe967691de971f314/bs4-0.0.1.tar.gz\n",
      "Requirement already satisfied: beautifulsoup4 in /Users/dragon/anaconda3/lib/python3.7/site-packages (from bs4) (4.7.1)\n",
      "Requirement already satisfied: soupsieve>=1.2 in /Users/dragon/anaconda3/lib/python3.7/site-packages (from beautifulsoup4->bs4) (1.8)\n",
      "Building wheels for collected packages: bs4\n",
      "  Building wheel for bs4 (setup.py) ... \u001b[?25ldone\n",
      "\u001b[?25h  Stored in directory: /Users/dragon/Library/Caches/pip/wheels/a0/b0/b2/4f80b9456b87abedbc0bf2d52235414c3467d8889be38dd472\n",
      "Successfully built bs4\n",
      "Installing collected packages: bs4\n",
      "Successfully installed bs4-0.0.1\n"
     ]
    }
   ],
   "source": [
    "! pip install bs4"
   ]
  },
  {
   "cell_type": "code",
   "execution_count": 43,
   "metadata": {},
   "outputs": [],
   "source": [
    "from bs4 import BeautifulSoup"
   ]
  },
  {
   "cell_type": "code",
   "execution_count": 44,
   "metadata": {},
   "outputs": [],
   "source": [
    "soup = BeautifulSoup(html, 'html.parser')"
   ]
  },
  {
   "cell_type": "code",
   "execution_count": 69,
   "metadata": {},
   "outputs": [
    {
     "name": "stdout",
     "output_type": "stream",
     "text": [
      "<!DOCTYPE html PUBLIC \"-//W3C//DTD XHTML 1.0 Transitional//EN\" \"http://www.w3.org/TR/xhtml1/DTD/xhtml1-transitional.dtd\">\n",
      "<html lang=\"es\" xml:lang=\"es\" xmlns=\"http://www.w3.org/1999/xhtml\">\n",
      " <head>\n",
      "  <meta content=\"IE=edge\" http-equiv=\"X-UA-Compatible\"/>\n",
      "  <script>\n",
      "   (function(w,d,s,l,i){w[l]=w[l]||[];w[l].push({'gtm.start':new Date().getTime(),event:'gtm.js'});var f=d.getElementsByTagName(s)[0],j=d.createElement(s),dl=l!='dataLayer'?'&amp;l='+l:'';j.async=true;j.src='https://www.googletagmanager.com/gtm.js?id='+i+dl;f.parentNode.insertBefore(j,f);})(window,document,'script','dataLayer','GTM-NNC39WZ');\n",
      "  </script>\n",
      "  <meta content=\"text/html; charset=utf-8\" http-equiv=\"Content-Type\"/>\n",
      "  <meta content=\"NO-CACHE\" http-equiv=\"CACHE-CONTROL\"/>\n",
      "  <meta content=\"NO-CACHE\" http-equiv=\"PRAGMA\"/>\n",
      "  <meta content=\"INDEX,FOLLOW,NOARCHIVE\" name=\"robots\"/>\n",
      "  <meta content=\"Noticias en tiempo real, contenido multimedia y los mejores editorialistas en la institución informativa con más credibilidad y\n"
     ]
    }
   ],
   "source": [
    "print(soup.prettify()[:1000])"
   ]
  },
  {
   "cell_type": "code",
   "execution_count": 47,
   "metadata": {},
   "outputs": [
    {
     "data": {
      "text/plain": [
       "<title>REFORMA | Periodismo independiente</title>"
      ]
     },
     "execution_count": 47,
     "metadata": {},
     "output_type": "execute_result"
    }
   ],
   "source": [
    "soup.title"
   ]
  },
  {
   "cell_type": "code",
   "execution_count": 48,
   "metadata": {},
   "outputs": [
    {
     "data": {
      "text/plain": [
       "'REFORMA | Periodismo independiente'"
      ]
     },
     "execution_count": 48,
     "metadata": {},
     "output_type": "execute_result"
    }
   ],
   "source": [
    "soup.title.string"
   ]
  },
  {
   "cell_type": "code",
   "execution_count": 49,
   "metadata": {},
   "outputs": [
    {
     "data": {
      "text/plain": [
       "[<a class=\"divLightbox\" onclick=\"grFunc.Zoom('modal',URLImagenes+'imagenes/960x640/5/916/4915329.jpg',960,640,'Presidente AMLO propuso reformar Código Fiscal para castigar con cárcel a quienes incurran en defraudación fiscal calificada al evadir ISR.','FOTO: Diego Gallegos')\">\n",
       " \t\t\t\t\t \n",
       " \t\t\t\t</a>,\n",
       " <a class=\"ligaonclick\" href=\"criminalizan-outsourcing/ar2070142?v=2\"><script type=\"text/javascript\"><!--\n",
       " \t\t\t\t\t\t\t\n",
       "               appFC=URLImagenes+\"imagenes/elementorelacionado/10/168/9167191.jpg\";\n",
       "               document.write('<img border=\"0\" width=\"375\" height=\"250\"  class=\"lazy\" data-original=\"'+appFC+'\"/>');\n",
       "               \n",
       " \t\t\t\t\t\t--></script></a>,\n",
       " <a class=\"ligaonclick\" href=\"criminalizan-outsourcing/ar2070142?v=2\">Criminalizan outsourcing</a>,\n",
       " <a class=\"ligaonclick\" href=\"criminalizan-outsourcing/ar2070142?v=2\">Presidente AMLO propuso castigar con cárcel a quienes incurran en defraudación fiscal calificada al evadir ISR en esquemas de outsourcing.</a>,\n",
       " <a class=\"ligaonclick\" href=\"criminalizan-outsourcing/ar2070142?v=2&amp;.html#comart\" style=\"margin-right:4px;cursor:pointer;\">56 <img border=\"0\" src=\"libre/imgdiseno/comentario.png\"/></a>,\n",
       " <a class=\"ligaonclick\" href=\"acusan-que-iniciativa-sobre-outsourcing-traiciona-a-ip/ar2069476?v=3\" style=\"margin-right:4px;cursor:pointer;\"><img border=\"0\" src=\"libre/imgdiseno/Articulo.png\"/></a>,\n",
       " <a class=\"ligaonclick\" href=\"exhibe-ex-funcionario-de-pemex-a-epn-y-su-hermano-incomodo/ar2070154\">Exhibe<br/>ex funcionario<br/>de Pemex a EPN y su 'hermano incómodo'</a>,\n",
       " <a class=\"ligaonclick\" href=\"exhibe-ex-funcionario-de-pemex-a-epn-y-su-hermano-incomodo/ar2070154\">Enrique Peña Nieto presionó a Lozoya para otorgar contratos de Pemex a su hermano Arturo, según relato de Froylán Gracia a FGR.</a>,\n",
       " <a class=\"ligaonclick\" href=\"exhibe-ex-funcionario-de-pemex-a-epn-y-su-hermano-incomodo/ar2070154&amp;.html#comart\" style=\"margin-right:4px;cursor:pointer;\">30 <img border=\"0\" src=\"libre/imgdiseno/comentario.png\"/></a>,\n",
       " <a class=\"ligaonclick\" href=\"acusa-fgr-a-pena-nieto-de-traidor-y-jefe-criminal/ar2069289?v=2\" style=\"margin-right:4px;cursor:pointer;\"><img border=\"0\" src=\"libre/imgdiseno/Articulo.png\"/></a>]"
      ]
     },
     "execution_count": 49,
     "metadata": {},
     "output_type": "execute_result"
    }
   ],
   "source": [
    "links = soup.find_all(\"a\")\n",
    "\n",
    "links[:10]"
   ]
  },
  {
   "cell_type": "code",
   "execution_count": 50,
   "metadata": {},
   "outputs": [
    {
     "name": "stdout",
     "output_type": "stream",
     "text": [
      "None\n",
      "criminalizan-outsourcing/ar2070142?v=2\n",
      "criminalizan-outsourcing/ar2070142?v=2\n",
      "criminalizan-outsourcing/ar2070142?v=2\n",
      "criminalizan-outsourcing/ar2070142?v=2&.html#comart\n",
      "acusan-que-iniciativa-sobre-outsourcing-traiciona-a-ip/ar2069476?v=3\n",
      "exhibe-ex-funcionario-de-pemex-a-epn-y-su-hermano-incomodo/ar2070154\n",
      "exhibe-ex-funcionario-de-pemex-a-epn-y-su-hermano-incomodo/ar2070154\n",
      "exhibe-ex-funcionario-de-pemex-a-epn-y-su-hermano-incomodo/ar2070154&.html#comart\n",
      "acusa-fgr-a-pena-nieto-de-traidor-y-jefe-criminal/ar2069289?v=2\n"
     ]
    }
   ],
   "source": [
    "for link in links[:10]:\n",
    "    print(link.get(\"href\"))"
   ]
  },
  {
   "cell_type": "code",
   "execution_count": 60,
   "metadata": {},
   "outputs": [
    {
     "data": {
      "text/plain": [
       "[{'title': 'Criminalizan outsourcing',\n",
       "  'url': 'criminalizan-outsourcing/ar2070142?v=2'},\n",
       " {'title': 'Presidente AMLO propuso castigar con cárcel a quienes incurran en defraudación fiscal calificada al evadir ISR en esquemas de outsourcing.',\n",
       "  'url': 'criminalizan-outsourcing/ar2070142?v=2'},\n",
       " {'title': '56', 'url': 'criminalizan-outsourcing/ar2070142?v=2&.html#comart'},\n",
       " {'title': \"Exhibe ex funcionario de Pemex a EPN y su 'hermano incómodo'\",\n",
       "  'url': 'exhibe-ex-funcionario-de-pemex-a-epn-y-su-hermano-incomodo/ar2070154'},\n",
       " {'title': 'Enrique Peña Nieto presionó a Lozoya para otorgar contratos de Pemex a su hermano Arturo, según relato de Froylán Gracia a FGR.',\n",
       "  'url': 'exhibe-ex-funcionario-de-pemex-a-epn-y-su-hermano-incomodo/ar2070154'}]"
      ]
     },
     "execution_count": 60,
     "metadata": {},
     "output_type": "execute_result"
    }
   ],
   "source": [
    "import re\n",
    "\n",
    "articles = []\n",
    "\n",
    "for link in links:\n",
    "    url = link.get(\"href\")\n",
    "    text = link.get_text(separator=\" \").strip()\n",
    "    if not text or not url or re.search(r\"<!--\", text):\n",
    "        continue\n",
    "    if re.search(\"^http\", url):\n",
    "        continue\n",
    "    articles.append({\n",
    "        \"title\": text,\n",
    "        \"url\": url\n",
    "    })\n",
    "\n",
    "articles[:5]"
   ]
  },
  {
   "cell_type": "code",
   "execution_count": 67,
   "metadata": {},
   "outputs": [
    {
     "name": "stdout",
     "output_type": "stream",
     "text": [
      "https://www.reforma.com/aplicacioneslibre/preacceso/articulo/default.aspx?__rval=1&urlredirect=https://www.reforma.com/criminalizan-outsourcing/ar2070142?v=2\n",
      "libre/imgdiseno/publicidad/close.png\n",
      "libre/imgdiseno/publicidad/expand.png\n",
      "libre/imgdiseno/comentario.png\n",
      "libre/imgdiseno/Articulo.png\n",
      "libre/imgdiseno/comentario.png\n",
      "libre/imgdiseno/Articulo.png\n",
      "libre/imgdiseno/Articulo.png\n",
      "libre/imgdiseno/ic_fn_vo.png\n",
      "libre/imgdiseno/galeriamultimedia.png\n",
      "libre/imgdiseno/comentario.png\n",
      "libre/imgdiseno/Articulo.png\n",
      "libre/imgdiseno/Articulo.png\n",
      "libre/imgdiseno/ic_fn_vo.png\n",
      "libre/imgdiseno/galeriamultimedia.png\n",
      "libre/imgdiseno/Articulo.png\n",
      "libre/imgdiseno/Articulo.png\n",
      "libre/imgdiseno/Articulo.png\n",
      "libre/imgdiseno/Articulo.png\n",
      "libre/imgdiseno/Articulo.png\n",
      "libre/imgdiseno/Articulo.png\n",
      "libre/imgdiseno/Articulo.png\n",
      "libre/imgdiseno/masnotas_NYT.png\n",
      "libre/imgdiseno/Articulo.png\n",
      "libre/imgdiseno/Articulo.png\n",
      "libre/imgdiseno/ic_fn_vo.png\n",
      "libre/imgdiseno/galeriamultimedia.png\n",
      "libre/imgdiseno/Articulo.png\n",
      "libre/imgdiseno/publicidad/cerrarpubbottom.png\n",
      "libre/ticker/img/bt_up.jpg\n",
      "libre/ticker/img/bt_dwn.jpg\n",
      "libre/ticker/img/bt_close.jpg\n",
      "libre/ticker/img/bt_left.jpg\n",
      "https://www.reforma.com/aplicacioneslibre/preacceso/articulo/default.aspx?__rval=1&urlredirect=https://www.reforma.com/criminalizan-outsourcing/ar2070142?v=2\n",
      "libre/imgdiseno/publicidad/close.png\n",
      "libre/imgdiseno/publicidad/expand.png\n",
      "libre/imgdiseno/comentario.png\n",
      "libre/imgdiseno/Articulo.png\n",
      "libre/imgdiseno/comentario.png\n",
      "libre/imgdiseno/Articulo.png\n",
      "libre/imgdiseno/Articulo.png\n",
      "libre/imgdiseno/ic_fn_vo.png\n",
      "libre/imgdiseno/galeriamultimedia.png\n",
      "libre/imgdiseno/comentario.png\n",
      "libre/imgdiseno/Articulo.png\n",
      "libre/imgdiseno/Articulo.png\n",
      "libre/imgdiseno/ic_fn_vo.png\n",
      "libre/imgdiseno/galeriamultimedia.png\n",
      "libre/imgdiseno/Articulo.png\n",
      "libre/imgdiseno/Articulo.png\n",
      "libre/imgdiseno/Articulo.png\n",
      "libre/imgdiseno/Articulo.png\n",
      "libre/imgdiseno/Articulo.png\n",
      "libre/imgdiseno/Articulo.png\n",
      "libre/imgdiseno/Articulo.png\n",
      "libre/imgdiseno/masnotas_NYT.png\n",
      "libre/imgdiseno/Articulo.png\n",
      "libre/imgdiseno/Articulo.png\n",
      "libre/imgdiseno/ic_fn_vo.png\n",
      "libre/imgdiseno/galeriamultimedia.png\n",
      "libre/imgdiseno/Articulo.png\n",
      "libre/imgdiseno/publicidad/cerrarpubbottom.png\n",
      "libre/ticker/img/bt_up.jpg\n",
      "libre/ticker/img/bt_dwn.jpg\n",
      "libre/ticker/img/bt_close.jpg\n",
      "libre/ticker/img/bt_left.jpg\n",
      "https://www.reforma.com/aplicacioneslibre/preacceso/articulo/default.aspx?__rval=1&urlredirect=https://www.reforma.com/criminalizan-outsourcing/ar2070142?v=2&.html#comart\n",
      "libre/imgdiseno/publicidad/close.png\n",
      "libre/imgdiseno/publicidad/expand.png\n",
      "libre/imgdiseno/comentario.png\n",
      "libre/imgdiseno/Articulo.png\n",
      "libre/imgdiseno/comentario.png\n",
      "libre/imgdiseno/Articulo.png\n",
      "libre/imgdiseno/Articulo.png\n",
      "libre/imgdiseno/ic_fn_vo.png\n",
      "libre/imgdiseno/galeriamultimedia.png\n",
      "libre/imgdiseno/comentario.png\n",
      "libre/imgdiseno/Articulo.png\n",
      "libre/imgdiseno/Articulo.png\n",
      "libre/imgdiseno/ic_fn_vo.png\n",
      "libre/imgdiseno/galeriamultimedia.png\n",
      "libre/imgdiseno/Articulo.png\n",
      "libre/imgdiseno/Articulo.png\n",
      "libre/imgdiseno/Articulo.png\n",
      "libre/imgdiseno/Articulo.png\n",
      "libre/imgdiseno/Articulo.png\n",
      "libre/imgdiseno/Articulo.png\n",
      "libre/imgdiseno/Articulo.png\n",
      "libre/imgdiseno/masnotas_NYT.png\n",
      "libre/imgdiseno/Articulo.png\n",
      "libre/imgdiseno/Articulo.png\n",
      "libre/imgdiseno/ic_fn_vo.png\n",
      "libre/imgdiseno/galeriamultimedia.png\n",
      "libre/imgdiseno/Articulo.png\n",
      "libre/imgdiseno/publicidad/cerrarpubbottom.png\n",
      "libre/ticker/img/bt_up.jpg\n",
      "libre/ticker/img/bt_dwn.jpg\n",
      "libre/ticker/img/bt_close.jpg\n",
      "libre/ticker/img/bt_left.jpg\n",
      "https://www.reforma.com/aplicacioneslibre/preacceso/articulo/default.aspx?__rval=1&urlredirect=https://www.reforma.com/exhibe-ex-funcionario-de-pemex-a-epn-y-su-hermano-incomodo/ar2070154\n",
      "libre/imgdiseno/publicidad/close.png\n",
      "libre/imgdiseno/publicidad/expand.png\n",
      "libre/imgdiseno/comentario.png\n",
      "libre/imgdiseno/Articulo.png\n",
      "libre/imgdiseno/comentario.png\n",
      "libre/imgdiseno/Articulo.png\n",
      "libre/imgdiseno/Articulo.png\n",
      "libre/imgdiseno/ic_fn_vo.png\n",
      "libre/imgdiseno/galeriamultimedia.png\n",
      "libre/imgdiseno/comentario.png\n",
      "libre/imgdiseno/Articulo.png\n",
      "libre/imgdiseno/Articulo.png\n",
      "libre/imgdiseno/ic_fn_vo.png\n",
      "libre/imgdiseno/galeriamultimedia.png\n",
      "libre/imgdiseno/Articulo.png\n",
      "libre/imgdiseno/Articulo.png\n",
      "libre/imgdiseno/Articulo.png\n",
      "libre/imgdiseno/Articulo.png\n",
      "libre/imgdiseno/Articulo.png\n",
      "libre/imgdiseno/Articulo.png\n",
      "libre/imgdiseno/Articulo.png\n",
      "libre/imgdiseno/masnotas_NYT.png\n",
      "libre/imgdiseno/Articulo.png\n",
      "libre/imgdiseno/Articulo.png\n",
      "libre/imgdiseno/ic_fn_vo.png\n",
      "libre/imgdiseno/galeriamultimedia.png\n",
      "libre/imgdiseno/Articulo.png\n",
      "libre/imgdiseno/publicidad/cerrarpubbottom.png\n",
      "libre/ticker/img/bt_up.jpg\n",
      "libre/ticker/img/bt_dwn.jpg\n",
      "libre/ticker/img/bt_close.jpg\n",
      "libre/ticker/img/bt_left.jpg\n",
      "https://www.reforma.com/aplicacioneslibre/preacceso/articulo/default.aspx?__rval=1&urlredirect=https://www.reforma.com/exhibe-ex-funcionario-de-pemex-a-epn-y-su-hermano-incomodo/ar2070154\n",
      "libre/imgdiseno/publicidad/close.png\n",
      "libre/imgdiseno/publicidad/expand.png\n",
      "libre/imgdiseno/comentario.png\n",
      "libre/imgdiseno/Articulo.png\n",
      "libre/imgdiseno/comentario.png\n",
      "libre/imgdiseno/Articulo.png\n",
      "libre/imgdiseno/Articulo.png\n",
      "libre/imgdiseno/ic_fn_vo.png\n",
      "libre/imgdiseno/galeriamultimedia.png\n",
      "libre/imgdiseno/comentario.png\n",
      "libre/imgdiseno/Articulo.png\n",
      "libre/imgdiseno/Articulo.png\n",
      "libre/imgdiseno/ic_fn_vo.png\n",
      "libre/imgdiseno/galeriamultimedia.png\n",
      "libre/imgdiseno/Articulo.png\n",
      "libre/imgdiseno/Articulo.png\n",
      "libre/imgdiseno/Articulo.png\n",
      "libre/imgdiseno/Articulo.png\n",
      "libre/imgdiseno/Articulo.png\n",
      "libre/imgdiseno/Articulo.png\n",
      "libre/imgdiseno/Articulo.png\n",
      "libre/imgdiseno/masnotas_NYT.png\n",
      "libre/imgdiseno/Articulo.png\n",
      "libre/imgdiseno/Articulo.png\n",
      "libre/imgdiseno/ic_fn_vo.png\n",
      "libre/imgdiseno/galeriamultimedia.png\n",
      "libre/imgdiseno/Articulo.png\n",
      "libre/imgdiseno/publicidad/cerrarpubbottom.png\n",
      "libre/ticker/img/bt_up.jpg\n",
      "libre/ticker/img/bt_dwn.jpg\n",
      "libre/ticker/img/bt_close.jpg\n",
      "libre/ticker/img/bt_left.jpg\n"
     ]
    }
   ],
   "source": [
    "for article in articles[:5]:\n",
    "    url = f'https://www.reforma.com/aplicacioneslibre/preacceso/articulo/default.aspx?__rval=1&urlredirect=https://www.reforma.com/{article[\"url\"]}'\n",
    "    print(url)\n",
    "    response = requests.get(url)\n",
    "    if response.status_code != 200:\n",
    "        continue\n",
    "    html = response.text\n",
    "    sub_soup = BeautifulSoup(html, 'html.parser')\n",
    "    for image in soup.find_all(\"img\"):\n",
    "        src = image.get(\"src\")\n",
    "        print(src)"
   ]
  },
  {
   "cell_type": "code",
   "execution_count": null,
   "metadata": {},
   "outputs": [],
   "source": []
  }
 ],
 "metadata": {
  "kernelspec": {
   "display_name": "Python 3",
   "language": "python",
   "name": "python3"
  },
  "language_info": {
   "codemirror_mode": {
    "name": "ipython",
    "version": 3
   },
   "file_extension": ".py",
   "mimetype": "text/x-python",
   "name": "python",
   "nbconvert_exporter": "python",
   "pygments_lexer": "ipython3",
   "version": "3.7.3"
  }
 },
 "nbformat": 4,
 "nbformat_minor": 2
}
