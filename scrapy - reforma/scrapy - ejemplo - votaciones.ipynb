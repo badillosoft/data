{
 "cells": [
  {
   "cell_type": "markdown",
   "metadata": {},
   "source": [
    "# Scrapy - Ejemplo de Votaciones\n",
    "\n",
    "Autor: Alan Badillo Salas\n",
    "\n",
    "Correo: badillo.soft@hotmail.com\n",
    "\n",
    "Github: https://github.com/badillosoft/data\n",
    "\n",
    "13 de noviembre de 2020"
   ]
  },
  {
   "cell_type": "code",
   "execution_count": 2,
   "metadata": {},
   "outputs": [
    {
     "data": {
      "text/plain": [
       "'<html>\\n<head>\\n   <title>Gaceta Parlamentaria, Cámara de Diputados</title>\\n</head>\\n<body text=\"#000000\" bgcolor=\"#ffffff\" link=\"#0000ee\" vlink=\"#551a8b\" alink=\"#ff0000\">\\n\\n<table width=\"660\"><tr>\\n<td align=\"center\"><font color=\"#9C0000\"><font size=-1>\\nVotaciones llevadas a cabo durante la</font> LXIV Legislatura (2018-2021)<font size=-1> en la Cámara de Diputados\\n</font></td>\\n</tr></table>\\n\\n<table width=\"660\"><tr>\\n<td WIDTH=\"2%\" valign=\"top\"></td>\\n<td WIDTH=\"98%\" valign=\"top\"><hr></td>\\n</tr></table>\\n\\n<table width=\"660\"><tr>\\n<td align=\"center\"><font color=\"#9C0000\"><font size=\"-1\">\\nGaceta Parlamentaria de la Cámara de Diputados\\n&nbsp;&nbsp;&nbsp;&nbsp;&nbsp;&nbsp;&nbsp;&nbsp;&nbsp;\\nactualizado 5/nov/2020\\n&nbsp;&nbsp;&nbsp;5036 0000, ext 54219&nbsp;&nbsp;&nbsp;<A HREF=\"mailto:gaceta.parlamentaria@congreso.gob.mx\">Correo</A>\\n</font></td>\\n</tr></table>\\n\\n<table width=\"660\"><tr>\\n<td width=\"2%\" valign=\"top\"></td>\\n<td width=\"98%\" valign=\"top\"><hr></td>\\n</tr></table>\\n\\n<table cellspacing=\"1\" cellp'"
      ]
     },
     "execution_count": 2,
     "metadata": {},
     "output_type": "execute_result"
    }
   ],
   "source": [
    "import requests\n",
    "\n",
    "response = requests.get(\"http://gaceta.diputados.gob.mx/gp_votaciones.html\")\n",
    "\n",
    "html = response.text\n",
    "\n",
    "html[:1000]"
   ]
  },
  {
   "cell_type": "code",
   "execution_count": 3,
   "metadata": {},
   "outputs": [
    {
     "data": {
      "text/plain": [
       "[<a href=\"mailto:gaceta.parlamentaria@congreso.gob.mx\">Correo</a>,\n",
       " <a href=\"/Gaceta/Votaciones/64/vot64_a1primero.html\">Primer periodo ordinario</a>,\n",
       " <a href=\"/Gaceta/Votaciones/64/vot64_a1extra1.html\">Primer periodo extraordinario</a>,\n",
       " <a href=\"/Gaceta/Votaciones/64/vot64_a1segundo.html\">Segundo periodo ordinario</a>,\n",
       " <a href=\"/Gaceta/Votaciones/64/vot64_a1extra2.html\">Segundo periodo extraordinario</a>,\n",
       " <a href=\"/Gaceta/Votaciones/64/vot64_a1extra3.html\">Tercer periodo extraordinario</a>,\n",
       " <a href=\"/Gaceta/Votaciones/64/vot64_a1extra4.html\">Cuarto periodo extraordinario</a>,\n",
       " <a href=\"/Gaceta/Votaciones/64/vot64_a2primero.html\">Primer periodo ordinario</a>,\n",
       " <a href=\"/Gaceta/Votaciones/64/vot64_a2segundo.html\">Segundo periodo ordinario</a>,\n",
       " <a href=\"/Gaceta/Votaciones/64/vot64_a2extra1.html\">Primer periodo extraordinario</a>,\n",
       " <a href=\"/Gaceta/Votaciones/64/vot64_a2extra2.html\">Segundo periodo extraordinario</a>,\n",
       " <a href=\"/Gaceta/Votaciones/64/vot64_a2extra3.html\">Tercer periodo extraordinario</a>,\n",
       " <a href=\"/Gaceta/Votaciones/64/vot64_a3primero.html\">Primer periodo ordinario</a>,\n",
       " <a href=\"/Gaceta/Votaciones/63/vot63_a1primero.html\">Primer periodo ordinario</a>,\n",
       " <a href=\"/Gaceta/Votaciones/63/vot63_a1segundo.html\">Segundo periodo ordinario</a>,\n",
       " <a href=\"/Gaceta/Votaciones/63/vot63_a1extra1.html\">Primer periodo extraordinario</a>,\n",
       " <a href=\"/Gaceta/Votaciones/63/vot63_a1extra2.html\">Segundo periodo extraordinario</a>,\n",
       " <a href=\"/Gaceta/Votaciones/63/vot63_a2primero.html\">Primer periodo ordinario</a>,\n",
       " <a href=\"/Gaceta/Votaciones/63/vot63_a2segundo.html\">Segundo periodo ordinario</a>,\n",
       " <a href=\"/Gaceta/Votaciones/63/vot63_a3primero.html\">Primer periodo ordinario</a>,\n",
       " <a href=\"/Gaceta/Votaciones/63/vot63_a3segundo.html\">Segundo periodo ordinario</a>,\n",
       " <a href=\"/Gaceta/Votaciones/62/vot_a1primero.html\">Primer periodo ordinario</a>,\n",
       " <a href=\"/Gaceta/Votaciones/62/vot_a1segundo.html\">Segundo periodo ordinario</a>,\n",
       " <a href=\"/Gaceta/Votaciones/62/vot_a1extra1.html\">Primer periodo extraordinario</a>,\n",
       " <a href=\"/Gaceta/Votaciones/62/vot_a1extra2.html\">Segundo periodo extraordinario</a>,\n",
       " <a href=\"/Gaceta/Votaciones/62/vot_a2primero.html\">Primer periodo ordinario</a>,\n",
       " <a href=\"/Gaceta/Votaciones/62/vot_a2segundo.html\">Segundo periodo ordinario</a>,\n",
       " <a href=\"/Gaceta/Votaciones/62/vot_a2extra1.html\">Primer periodo extraordinario</a>,\n",
       " <a href=\"/Gaceta/Votaciones/62/vot_a2extra2.html\">Segundo periodo extraordinario</a>,\n",
       " <a href=\"/Gaceta/Votaciones/62/vot_a2extra3.html\">Tercer periodo extraordinario</a>,\n",
       " <a href=\"/Gaceta/Votaciones/62/vot_a2extra4.html\">Cuarto periodo extraordinario</a>,\n",
       " <a href=\"/Gaceta/Votaciones/62/vot_a3primero.html\">Primer periodo ordinario</a>,\n",
       " <a href=\"/Gaceta/Votaciones/62/vot_a3segundo.html\">Segundo periodo ordinario</a>,\n",
       " <a href=\"/Gaceta/Votaciones/61/vot_a1primero.html\">Primer periodo ordinario</a>,\n",
       " <a href=\"/Gaceta/Votaciones/61/vot_a1segundo.html\">Segundo periodo ordinario</a>,\n",
       " <a href=\"/Gaceta/Votaciones/61/vot_a2primero.html\">Primer periodo ordinario</a>,\n",
       " <a href=\"/Gaceta/Votaciones/61/vot_a2segundo.html\">Segundo periodo ordinario</a>,\n",
       " <a href=\"/Gaceta/Votaciones/61/vot_a3primero.html\">Primer periodo ordinario</a>,\n",
       " <a href=\"/Gaceta/Votaciones/61/vot_a3segundo.html\">Segundo periodo ordinario</a>,\n",
       " <a href=\"/Gaceta/Votaciones/60/vot_a1primero.html\">Primer periodo ordinario</a>,\n",
       " <a href=\"/Gaceta/Votaciones/60/vot_a1segundo.html\">Segundo periodo ordinario</a>,\n",
       " <a href=\"/Gaceta/Votaciones/60/vot_a2primero.html\">Primer periodo ordinario</a>,\n",
       " <a href=\"/Gaceta/Votaciones/60/vot_a2segundo.html\">Segundo periodo ordinario</a>,\n",
       " <a href=\"/Gaceta/Votaciones/60/vot_a2extra1.html\">Primer periodo extraordinario</a>,\n",
       " <a href=\"/Gaceta/Votaciones/60/vot_a3primero.html\">Primer periodo ordinario</a>,\n",
       " <a href=\"/Gaceta/Votaciones/60/vot_a3segundo.html\">Segundo periodo ordinario</a>,\n",
       " <a href=\"/Gaceta/Votaciones/59/vot_a1primero.html\">Primer periodo ordinario</a>,\n",
       " <a href=\"/Gaceta/Votaciones/59/vot_a1extra1.html\">Primer periodo extraordinario</a>,\n",
       " <a href=\"/Gaceta/Votaciones/59/vot_a1segundo.html\">Segundo periodo ordinario</a>,\n",
       " <a href=\"/Gaceta/Votaciones/59/vot_a1extra2.html\">Segundo periodo extraordinario</a>,\n",
       " <a href=\"/Gaceta/Votaciones/59/vot_a2primero.html\">Primer periodo ordinario</a>,\n",
       " <a href=\"/Gaceta/Votaciones/59/vot_a2segundo.html\">Segundo periodo ordinario</a>,\n",
       " <a href=\"/Gaceta/Votaciones/59/vot_a2extra1.html\">Primer periodo extraordinario</a>,\n",
       " <a href=\"/Gaceta/Votaciones/59/vot_a3primero.html\">Primer periodo ordinario</a>,\n",
       " <a href=\"/Gaceta/Votaciones/59/vot_a3segundo.html\">Segundo periodo ordinario</a>,\n",
       " <a href=\"/Gaceta/Votaciones/58/vot_a1primero.html\">Primer periodo ordinario</a>,\n",
       " <a href=\"/Gaceta/Votaciones/58/vot_a1segundo.html\">Segundo periodo ordinario</a>,\n",
       " <a href=\"/Gaceta/Votaciones/58/vot_a2primero.html\">Primer periodo ordinario</a>,\n",
       " <a href=\"/Gaceta/Votaciones/58/vot_a2extra1.html\">Primer periodo extraordinario</a>,\n",
       " <a href=\"/Gaceta/Votaciones/58/vot_a2segundo.html\">Segundo periodo ordinario</a>,\n",
       " <a href=\"/Gaceta/Votaciones/58/vot_a3primero.html\">Primer periodo ordinario</a>,\n",
       " <a href=\"/Gaceta/Votaciones/58/vot_a3segundo.html\">Segundo periodo ordinario</a>,\n",
       " <a href=\"/Gaceta/Votaciones/57/gp57_votaciones.html\">Votaciones</a>]"
      ]
     },
     "execution_count": 3,
     "metadata": {},
     "output_type": "execute_result"
    }
   ],
   "source": [
    "from bs4 import BeautifulSoup\n",
    "\n",
    "soup = BeautifulSoup(html, \"html.parser\")\n",
    "\n",
    "soup.find_all(\"a\")"
   ]
  },
  {
   "cell_type": "code",
   "execution_count": 13,
   "metadata": {},
   "outputs": [
    {
     "data": {
      "text/plain": [
       "[{'url': '/Gaceta/Votaciones/64/vot64_a1primero.html',\n",
       "  'title': 'Primer periodo ordinario',\n",
       "  'ordinario': True},\n",
       " {'url': '/Gaceta/Votaciones/64/vot64_a1extra1.html',\n",
       "  'title': 'Primer periodo extraordinario',\n",
       "  'ordinario': False},\n",
       " {'url': '/Gaceta/Votaciones/64/vot64_a1segundo.html',\n",
       "  'title': 'Segundo periodo ordinario',\n",
       "  'ordinario': True},\n",
       " {'url': '/Gaceta/Votaciones/64/vot64_a1extra2.html',\n",
       "  'title': 'Segundo periodo extraordinario',\n",
       "  'ordinario': False},\n",
       " {'url': '/Gaceta/Votaciones/64/vot64_a1extra3.html',\n",
       "  'title': 'Tercer periodo extraordinario',\n",
       "  'ordinario': False}]"
      ]
     },
     "execution_count": 13,
     "metadata": {},
     "output_type": "execute_result"
    }
   ],
   "source": [
    "import re\n",
    "\n",
    "gacetas = []\n",
    "\n",
    "for link in soup.find_all(\"a\"):\n",
    "    url = link.get(\"href\")\n",
    "    title = link.get_text()\n",
    "    if not re.search(\"^/Gaceta\", url):\n",
    "        continue\n",
    "    ordinario = not not re.search(\"\\sordinario\", title)\n",
    "    #print(title, \"|\", url, \"|\", ordinario)\n",
    "    gacetas.append({\n",
    "        \"url\": url,\n",
    "        \"title\": title,\n",
    "        \"ordinario\": ordinario\n",
    "    })\n",
    "    \n",
    "gacetas[:5]"
   ]
  },
  {
   "cell_type": "code",
   "execution_count": 14,
   "metadata": {},
   "outputs": [
    {
     "data": {
      "text/html": [
       "<div>\n",
       "<style scoped>\n",
       "    .dataframe tbody tr th:only-of-type {\n",
       "        vertical-align: middle;\n",
       "    }\n",
       "\n",
       "    .dataframe tbody tr th {\n",
       "        vertical-align: top;\n",
       "    }\n",
       "\n",
       "    .dataframe thead th {\n",
       "        text-align: right;\n",
       "    }\n",
       "</style>\n",
       "<table border=\"1\" class=\"dataframe\">\n",
       "  <thead>\n",
       "    <tr style=\"text-align: right;\">\n",
       "      <th></th>\n",
       "      <th>ordinario</th>\n",
       "      <th>title</th>\n",
       "      <th>url</th>\n",
       "    </tr>\n",
       "  </thead>\n",
       "  <tbody>\n",
       "    <tr>\n",
       "      <th>0</th>\n",
       "      <td>True</td>\n",
       "      <td>Primer periodo ordinario</td>\n",
       "      <td>/Gaceta/Votaciones/64/vot64_a1primero.html</td>\n",
       "    </tr>\n",
       "    <tr>\n",
       "      <th>1</th>\n",
       "      <td>False</td>\n",
       "      <td>Primer periodo extraordinario</td>\n",
       "      <td>/Gaceta/Votaciones/64/vot64_a1extra1.html</td>\n",
       "    </tr>\n",
       "    <tr>\n",
       "      <th>2</th>\n",
       "      <td>True</td>\n",
       "      <td>Segundo periodo ordinario</td>\n",
       "      <td>/Gaceta/Votaciones/64/vot64_a1segundo.html</td>\n",
       "    </tr>\n",
       "    <tr>\n",
       "      <th>3</th>\n",
       "      <td>False</td>\n",
       "      <td>Segundo periodo extraordinario</td>\n",
       "      <td>/Gaceta/Votaciones/64/vot64_a1extra2.html</td>\n",
       "    </tr>\n",
       "    <tr>\n",
       "      <th>4</th>\n",
       "      <td>False</td>\n",
       "      <td>Tercer periodo extraordinario</td>\n",
       "      <td>/Gaceta/Votaciones/64/vot64_a1extra3.html</td>\n",
       "    </tr>\n",
       "  </tbody>\n",
       "</table>\n",
       "</div>"
      ],
      "text/plain": [
       "   ordinario                           title  \\\n",
       "0       True        Primer periodo ordinario   \n",
       "1      False   Primer periodo extraordinario   \n",
       "2       True       Segundo periodo ordinario   \n",
       "3      False  Segundo periodo extraordinario   \n",
       "4      False   Tercer periodo extraordinario   \n",
       "\n",
       "                                          url  \n",
       "0  /Gaceta/Votaciones/64/vot64_a1primero.html  \n",
       "1   /Gaceta/Votaciones/64/vot64_a1extra1.html  \n",
       "2  /Gaceta/Votaciones/64/vot64_a1segundo.html  \n",
       "3   /Gaceta/Votaciones/64/vot64_a1extra2.html  \n",
       "4   /Gaceta/Votaciones/64/vot64_a1extra3.html  "
      ]
     },
     "execution_count": 14,
     "metadata": {},
     "output_type": "execute_result"
    }
   ],
   "source": [
    "import pandas as pd\n",
    "\n",
    "df = pd.DataFrame(gacetas)\n",
    "\n",
    "df.head()"
   ]
  },
  {
   "cell_type": "code",
   "execution_count": null,
   "metadata": {},
   "outputs": [],
   "source": []
  },
  {
   "cell_type": "code",
   "execution_count": null,
   "metadata": {},
   "outputs": [],
   "source": []
  }
 ],
 "metadata": {
  "kernelspec": {
   "display_name": "Python 3",
   "language": "python",
   "name": "python3"
  },
  "language_info": {
   "codemirror_mode": {
    "name": "ipython",
    "version": 3
   },
   "file_extension": ".py",
   "mimetype": "text/x-python",
   "name": "python",
   "nbconvert_exporter": "python",
   "pygments_lexer": "ipython3",
   "version": "3.7.3"
  }
 },
 "nbformat": 4,
 "nbformat_minor": 2
}
