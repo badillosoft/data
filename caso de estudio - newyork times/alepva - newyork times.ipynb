{
 "cells": [
  {
   "cell_type": "markdown",
   "metadata": {},
   "source": [
    "# Caso de estudio: Notas periodísticas del Newyork Times\n",
    "\n",
    "Autor: Alan Badillo Salas\n",
    "\n",
    "Correo: badillo.soft@hotmail.com\n",
    "\n",
    "Github: https://github.com/badillosoft/data\n",
    "\n",
    "2 de noviembre de 2020"
   ]
  },
  {
   "cell_type": "markdown",
   "metadata": {},
   "source": [
    "## Adquisición de datos\n",
    "\n",
    "Fuente de origen: Archivo de texto (.txt)\n",
    "\n",
    "Estructura destino: Lista de cadenas de texto, cada una representa una línea del archivo"
   ]
  },
  {
   "cell_type": "code",
   "execution_count": 2,
   "metadata": {},
   "outputs": [
    {
     "name": "stdout",
     "output_type": "stream",
     "text": [
      "Líneas: 192578\n"
     ]
    },
    {
     "data": {
      "text/plain": [
       "['URL: http://www.nytimes.com/2016/06/30/sports/baseball/washington-nationals-max-scherzer-baffles-mets-completing-a-sweep.html',\n",
       " '',\n",
       " 'WASHINGTON — Stellar pitching kept the Mets afloat in the first half of last season despite their offensive woes. But they cannot produce an encore of their pennant-winning season if their lineup keeps floundering while their pitching is nicked, bruised and stretched thin.',\n",
       " '“We were going to ride our pitching,” Manager Terry Collins said before Wednesday’s game. “But we’re not riding it right now. We’ve got as many problems with our pitching as we do anything.”',\n",
       " 'Wednesday’s 4-2 loss to the Washington Nationals was cruel for the already-limping Mets. Pitching in Steven Matz’s place, the spot starter Logan Verrett allowed two runs over five innings. But even that was too large a deficit for the Mets’ lineup to overcome against Max Scherzer, the Nationals’ starter.']"
      ]
     },
     "execution_count": 2,
     "metadata": {},
     "output_type": "execute_result"
    }
   ],
   "source": [
    "filename = \"nytimes_news_articles.txt\"\n",
    "\n",
    "file = open(filename)\n",
    "\n",
    "content = file.read()\n",
    "\n",
    "lines = content.split(\"\\n\")\n",
    "\n",
    "print(\"Líneas: {}\".format(len(lines)))\n",
    "\n",
    "lines[:5]"
   ]
  },
  {
   "cell_type": "markdown",
   "metadata": {},
   "source": [
    "## Limpieza de datos\n",
    "\n",
    "Estructura de entrada: Lista de cadenas de texto, dónde cada entrada representa una línea\n",
    "\n",
    "Limpieza: Quitar las líneas vacías"
   ]
  },
  {
   "cell_type": "code",
   "execution_count": 3,
   "metadata": {},
   "outputs": [
    {
     "name": "stdout",
     "output_type": "stream",
     "text": [
      "Líneas: 174788\n"
     ]
    },
    {
     "data": {
      "text/plain": [
       "['URL: http://www.nytimes.com/2016/06/30/sports/baseball/washington-nationals-max-scherzer-baffles-mets-completing-a-sweep.html',\n",
       " 'WASHINGTON — Stellar pitching kept the Mets afloat in the first half of last season despite their offensive woes. But they cannot produce an encore of their pennant-winning season if their lineup keeps floundering while their pitching is nicked, bruised and stretched thin.',\n",
       " '“We were going to ride our pitching,” Manager Terry Collins said before Wednesday’s game. “But we’re not riding it right now. We’ve got as many problems with our pitching as we do anything.”',\n",
       " 'Wednesday’s 4-2 loss to the Washington Nationals was cruel for the already-limping Mets. Pitching in Steven Matz’s place, the spot starter Logan Verrett allowed two runs over five innings. But even that was too large a deficit for the Mets’ lineup to overcome against Max Scherzer, the Nationals’ starter.',\n",
       " '“We’re not even giving ourselves chances,” Collins said, adding later, “We just can’t give our pitchers any room to work.”']"
      ]
     },
     "execution_count": 3,
     "metadata": {},
     "output_type": "execute_result"
    }
   ],
   "source": [
    "import re\n",
    "\n",
    "lines = list(filter(lambda line: not re.search(r\"^\\s*$\", line), lines))\n",
    "\n",
    "print(\"Líneas: {}\".format(len(lines)))\n",
    "\n",
    "lines[:5]"
   ]
  },
  {
   "cell_type": "markdown",
   "metadata": {},
   "source": [
    "## Estructuración de datos\n",
    "\n",
    "Estructura de entrada: Lista de cadenas de texto, dónde cada entrada representa una línea\n",
    "\n",
    "Estructuración: Detectar cada nota que consiste de una URL y un texto en varias líneas"
   ]
  },
  {
   "cell_type": "code",
   "execution_count": 5,
   "metadata": {},
   "outputs": [
    {
     "name": "stdout",
     "output_type": "stream",
     "text": [
      "Notas: 8884\n"
     ]
    },
    {
     "data": {
      "text/plain": [
       "[{'url': 'URL: http://www.nytimes.com/2016/06/30/sports/baseball/washington-nationals-max-scherzer-baffles-mets-completing-a-sweep.html',\n",
       "  'lines': ['WASHINGTON — Stellar pitching kept the Mets afloat in the first half of last season despite their offensive woes. But they cannot produce an encore of their pennant-winning season if their lineup keeps floundering while their pitching is nicked, bruised and stretched thin.',\n",
       "   '“We were going to ride our pitching,” Manager Terry Collins said before Wednesday’s game. “But we’re not riding it right now. We’ve got as many problems with our pitching as we do anything.”',\n",
       "   'Wednesday’s 4-2 loss to the Washington Nationals was cruel for the already-limping Mets. Pitching in Steven Matz’s place, the spot starter Logan Verrett allowed two runs over five innings. But even that was too large a deficit for the Mets’ lineup to overcome against Max Scherzer, the Nationals’ starter.',\n",
       "   '“We’re not even giving ourselves chances,” Collins said, adding later, “We just can’t give our pitchers any room to work.”',\n",
       "   'The Mets did not score until the ninth inning, when a last-gasp two-run homer by James Loney off Nationals reliever Shawn Kelley snapped a streak of 23 scoreless innings for the team.',\n",
       "   'The Mets were swept in the three-game series and fell six games behind the Nationals in the National League East. Of late, the Mets have looked worse than their 40-37 record.',\n",
       "   '“I don’t think we’ve played half our games yet this year,” right fielder Curtis Granderson said. “There’s still a lot of things left that can and hopefully will happen.”',\n",
       "   'Scherzer toyed with the Mets, who were initially without Granderson after he was scratched from the lineup with lingering calf tightness. Even though Granderson has been inconsistent this season, he had hit well against Scherzer in the past. Alejandro De Aza, who entered the game with a .165 average, started in right field instead because Collins said the team had few options.',\n",
       "   'After Scherzer gave up a single to Asdrubal Cabrera and walked Loney in the second inning, he retired the next 18 batters, until an eighth-inning single by Brandon Nimmo.',\n",
       "   'The Mets struggled again with runners on base. After Nimmo and the pinch-hitting Granderson singled in the eighth, pinch-hitter Travis d’Arnaud grounded out, and De Aza struck out.',\n",
       "   '“If they keep adding pressure on themselves, they’re going to continue to struggle,” Collins said. “That’s one of the things we try to make sure they have to understand: They have to be themselves.”',\n",
       "   'General Manager Sandy Alderson, Collins and the coaching staff have met about the offense and discussed the odd dynamics: Some players are performing at or better than their career averages, but the lineup as a whole has struggled immensely, especially with runners in scoring position.',\n",
       "   '“We’re just not driving in any runs,” Collins said. “That’s been the frustrating part. It’s not that we’re striking out. We’re popping up, or a double-play ball.”',\n",
       "   'The Mets have a power-hitting team, so asking players to bunt or hit and run would go against their strengths.',\n",
       "   '“When you start to change a team that’s built one way and start to make them do something different, you’re going to get your butt beat,” Collins said.',\n",
       "   'Earlier in the season, the Mets appeared like an all-or-nothing, home-run-driven team. Although they hit only .211 as a team in May, they smashed 40 home runs. They have a higher average in June, but they have hit only 24 homers, and the inconsistent offense has put a strain on the pitching staff.',\n",
       "   'In the second inning, Verrett gave up a solo home run to the ex-Met Daniel Murphy. Collins wanted to limit the workloads of Addison Reed and Jeurys Familia, so he turned to reliever Sean Gilmartin in the eighth. Gilmartin gave up a two-run homer to Murphy, who has hit .429 (15 for 35) with four home runs against the Mets this season, his first since leaving the team.',\n",
       "   '“I felt like I kept us in the game and gave us a chance to come back and win it,” Verrett said. “I wish that I wouldn’t have given up the two runs.”',\n",
       "   'Verrett was put in this position because of the effects of bone spurs on the Mets’ rotation. The team asked Verrett to start Wednesday and gave Matz an extra day of rest after he received anti-inflammatory medication for the large bone spur in his left elbow. He will try to pitch through it.',\n",
       "   'Noah Syndergaard has a smaller and less intrusive bone spur in the back of his right elbow.',\n",
       "   '“As long as I’m staying on my anti-inflammatories and my mechanics are on point, I’m able to go out there every five days and compete,” Syndergaard said.',\n",
       "   'For the Mets, the immediate road ahead will be even tougher. Matz was expected to pitch Thursday against the Chicago Cubs, one of the best teams in baseball this season.']}]"
      ]
     },
     "execution_count": 5,
     "metadata": {},
     "output_type": "execute_result"
    }
   ],
   "source": [
    "notes = []\n",
    "note_url = \"\"\n",
    "note_lines = []\n",
    "\n",
    "def addNote(url, lines):\n",
    "    if len(lines) == 0:\n",
    "        return\n",
    "    notes.append({\n",
    "        \"url\": url,\n",
    "        \"lines\": lines\n",
    "    })\n",
    "\n",
    "for line in lines:\n",
    "    if re.search(\"^URL:\", line):\n",
    "        addNote(note_url, note_lines)\n",
    "        note_url = line\n",
    "        note_lines = []\n",
    "        continue\n",
    "    note_lines.append(line)\n",
    "   \n",
    "addNote(note_url, note_lines)\n",
    "\n",
    "print(\"Notas: {}\".format(len(notes)))\n",
    "\n",
    "notes[:1]"
   ]
  },
  {
   "cell_type": "markdown",
   "metadata": {},
   "source": [
    "## Procesamiento de datos\n",
    "\n",
    "Estructura de entrada: Lista de diccionarios, cada diccionario contiene la información de una nota (url: texto, lines: lista de textos)\n",
    "\n",
    "Procesamiento: Extraer de la URL la fecha (año, mes y día), las categorías, el título codificado y la lista de palabras clave."
   ]
  },
  {
   "cell_type": "code",
   "execution_count": 258,
   "metadata": {},
   "outputs": [
    {
     "data": {
      "text/plain": [
       "['URL: http://www.nytimes.com/2016/06/30/sports/baseball/washington-nationals-max-scherzer-baffles-mets-completing-a-sweep.html',\n",
       " 'URL: http://www.nytimes.com/2016/06/30/nyregion/mayor-de-blasios-counsel-to-leave-next-month-to-lead-police-review-board.html',\n",
       " 'URL: http://www.nytimes.com/2016/06/30/nyregion/three-men-charged-in-killing-of-cuomo-administration-lawyer.html',\n",
       " 'URL: http://www.nytimes.com/2016/06/30/nyregion/tekserve-precursor-to-the-apple-store-to-close-after-29-years.html',\n",
       " 'URL: http://www.nytimes.com/2016/06/30/sports/olympics/once-at-michael-phelpss-feet-and-still-chasing-them.html',\n",
       " 'URL: http://www.nytimes.com/2016/06/30/sports/olympics/missy-franklin-breaks-through-in-trials-and-earns-a-return-to-olympics.html',\n",
       " 'URL: http://www.nytimes.com/2016/06/30/business/dealbook/lionsgate-is-said-to-be-near-deal-to-buy-starz.html',\n",
       " 'URL: http://www.nytimes.com/2016/06/30/nyregion/pool-rules-no-running-no-eating-or-drinking-no-men.html',\n",
       " 'URL: http://www.nytimes.com/2016/06/30/sports/basketball/knicks-look-to-young-blood-and-free-agency-to-patch-porous-roster.html',\n",
       " 'URL: http://www.nytimes.com/2016/06/30/nyregion/latest-sign-of-change-in-harlem-its-congressional-candidate.html']"
      ]
     },
     "execution_count": 258,
     "metadata": {},
     "output_type": "execute_result"
    }
   ],
   "source": [
    "urls = [note[\"url\"] for note in notes]\n",
    "\n",
    "urls[:10]"
   ]
  },
  {
   "cell_type": "code",
   "execution_count": 259,
   "metadata": {},
   "outputs": [
    {
     "name": "stdout",
     "output_type": "stream",
     "text": [
      "--------------------\n",
      "http://www.nytimes.com/2016/06/30/sports/baseball/washington-nationals-max-scherzer-baffles-mets-completing-a-sweep.html\n",
      "2016/06/30 (2016, 6, 30)\n",
      "['sports', 'baseball'] sports\n",
      "['washington', 'nationals', 'max', 'scherzer', 'baffles', 'mets', 'completing', 'a', 'sweep']\n",
      "--------------------\n",
      "http://www.nytimes.com/2016/06/30/nyregion/mayor-de-blasios-counsel-to-leave-next-month-to-lead-police-review-board.html\n",
      "2016/06/30 (2016, 6, 30)\n",
      "['nyregion'] nyregion\n",
      "['mayor', 'de', 'blasios', 'counsel', 'to', 'leave', 'next', 'month', 'to', 'lead', 'police', 'review', 'board']\n",
      "--------------------\n",
      "http://www.nytimes.com/2016/06/30/nyregion/three-men-charged-in-killing-of-cuomo-administration-lawyer.html\n",
      "2016/06/30 (2016, 6, 30)\n",
      "['nyregion'] nyregion\n",
      "['three', 'men', 'charged', 'in', 'killing', 'of', 'cuomo', 'administration', 'lawyer']\n",
      "--------------------\n",
      "http://www.nytimes.com/2016/06/30/nyregion/tekserve-precursor-to-the-apple-store-to-close-after-29-years.html\n",
      "2016/06/30 (2016, 6, 30)\n",
      "['nyregion'] nyregion\n",
      "['tekserve', 'precursor', 'to', 'the', 'apple', 'store', 'to', 'close', 'after', '29', 'years']\n",
      "--------------------\n",
      "http://www.nytimes.com/2016/06/30/sports/olympics/once-at-michael-phelpss-feet-and-still-chasing-them.html\n",
      "2016/06/30 (2016, 6, 30)\n",
      "['sports', 'olympics'] sports\n",
      "['once', 'at', 'michael', 'phelpss', 'feet', 'and', 'still', 'chasing', 'them']\n"
     ]
    }
   ],
   "source": [
    "for note in notes:\n",
    "    url = note[\"url\"]\n",
    "    note[\"link\"] = re.sub(r\"^URL:\\s*\", \"\", url)\n",
    "    for match in re.findall(r\"(\\d{4}/\\d{2}/\\d{2})/(.*)\", url):\n",
    "        date = match[0]\n",
    "        content = match[1]\n",
    "        #print(date, content)\n",
    "        match = re.search(\"/[\\w-]+.html\", content)\n",
    "        left = content[:match.start()]\n",
    "        right = content[match.start() + 1:]\n",
    "        #print(left, right)\n",
    "        categories = left.split(\"/\")\n",
    "        title = right.replace(\".html\", \"\").split(\"-\")\n",
    "        #print(categories, title)\n",
    "        note[\"date\"] = date\n",
    "        year, month, day = tuple(date.split(\"/\"))\n",
    "        note[\"at_year\"], note[\"at_month\"], note[\"at_day\"] = (int(year), int(month), int(day))\n",
    "        note[\"categories\"] = categories\n",
    "        note[\"main_category\"] = categories[0]\n",
    "        note[\"title\"] = title\n",
    "        \n",
    "def describe_note(note):\n",
    "    print(note[\"link\"])\n",
    "    print(note[\"date\"], (note[\"at_year\"], note[\"at_month\"], note[\"at_day\"]))\n",
    "    print(note[\"categories\"], note[\"main_category\"])\n",
    "    print(note[\"title\"])\n",
    "    \n",
    "for i in range(0, 5):\n",
    "    print(\"-\" * 20)\n",
    "    describe_note(notes[i])"
   ]
  },
  {
   "cell_type": "markdown",
   "metadata": {},
   "source": [
    "### Procesadores"
   ]
  },
  {
   "cell_type": "code",
   "execution_count": 260,
   "metadata": {},
   "outputs": [
    {
     "data": {
      "text/plain": [
       "['fashion',\n",
       " 'realestate',\n",
       " 'health',\n",
       " 'education',\n",
       " 'theater',\n",
       " 'upshot',\n",
       " 'automobiles',\n",
       " 'technology',\n",
       " 'travel',\n",
       " 'your-money',\n",
       " 'dining',\n",
       " 'style',\n",
       " 'jobs',\n",
       " 'nyregion',\n",
       " 'sports',\n",
       " 'world',\n",
       " 't-magazine',\n",
       " 'movies',\n",
       " 'science',\n",
       " 'universal',\n",
       " 'books',\n",
       " 'us',\n",
       " 'pageoneplus',\n",
       " 'magazine',\n",
       " 'business',\n",
       " 'nytnow',\n",
       " 'insider',\n",
       " 'arts']"
      ]
     },
     "execution_count": 260,
     "metadata": {},
     "output_type": "execute_result"
    }
   ],
   "source": [
    "def notes_main_categories():\n",
    "    return list(set([note[\"main_category\"] for note in notes]))\n",
    "\n",
    "main_categories = notes_main_categories()\n",
    "\n",
    "main_categories"
   ]
  },
  {
   "cell_type": "code",
   "execution_count": 261,
   "metadata": {},
   "outputs": [
    {
     "name": "stdout",
     "output_type": "stream",
     "text": [
      "fashion 618\n",
      "realestate 166\n",
      "health 78\n",
      "education 27\n",
      "theater 145\n",
      "upshot 130\n",
      "automobiles 16\n",
      "technology 232\n",
      "travel 142\n",
      "your-money 60\n",
      "dining 210\n",
      "style 32\n",
      "jobs 17\n",
      "nyregion 663\n",
      "sports 1268\n",
      "world 1210\n",
      "t-magazine 198\n",
      "movies 126\n",
      "science 162\n",
      "universal 8\n",
      "books 85\n",
      "us 1199\n",
      "pageoneplus 70\n",
      "magazine 156\n",
      "business 1041\n",
      "nytnow 70\n",
      "insider 94\n",
      "arts 661\n"
     ]
    }
   ],
   "source": [
    "def notes_by_category(name):\n",
    "    return list(filter(lambda note: note[\"main_category\"] == name, notes))\n",
    "\n",
    "for name in main_categories:\n",
    "    print(name, len(notes_by_category(name)))"
   ]
  },
  {
   "cell_type": "code",
   "execution_count": 6,
   "metadata": {},
   "outputs": [
    {
     "data": {
      "text/plain": [
       "[('bruised',\n",
       "  246,\n",
       "  253,\n",
       "  'WASHINGTON — Stellar pitching kept the Mets afloat in the first half of last season despite their offensive woes. But they cannot produce an encore of their pennant-winning season if their lineup keeps floundering while their pitching is nicked, ',\n",
       "  ' and stretched thin.',\n",
       "  'bruised',\n",
       "  'WASHINGTON — Stellar pitching kept the Mets afloat in the first half of last season despite their offensive woes. But they cannot produce an encore of their pennant-winning season if their lineup keeps floundering while their pitching is nicked, bruised and stretched thin.')]"
      ]
     },
     "execution_count": 6,
     "metadata": {},
     "output_type": "execute_result"
    }
   ],
   "source": [
    "def search_in_note(note, text):\n",
    "    search = re.split(\"\\s+\", text.lower())\n",
    "    matches = []\n",
    "    for line in note[\"lines\"]:\n",
    "        for word in search:\n",
    "            for match in re.finditer(word, line.lower()):\n",
    "                start, end = match.span()\n",
    "                left = line[:start]\n",
    "                center = line[start:end]\n",
    "                right = line[end:]\n",
    "                matches.append((word, start, end, left, right, center, line))\n",
    "    return matches\n",
    "\n",
    "search_in_note(notes[0], \"bruised\")"
   ]
  },
  {
   "cell_type": "code",
   "execution_count": 263,
   "metadata": {},
   "outputs": [
    {
     "data": {
      "text/plain": [
       "[('Mets afloat',\n",
       "  39,\n",
       "  50,\n",
       "  'WASHINGTON — Stellar pitching kept the ',\n",
       "  ' in the first half of last season despite their offensive woes. But they cannot produce an encore of their pennant-winning season if their lineup keeps floundering while their pitching is nicked, bruised and stretched thin.',\n",
       "  'Mets afloat',\n",
       "  'WASHINGTON — Stellar pitching kept the Mets afloat in the first half of last season despite their offensive woes. But they cannot produce an encore of their pennant-winning season if their lineup keeps floundering while their pitching is nicked, bruised and stretched thin.')]"
      ]
     },
     "execution_count": 263,
     "metadata": {},
     "output_type": "execute_result"
    }
   ],
   "source": [
    "def search_in_note_text(note, text):\n",
    "    search = re.split(\"\\s+\", text)\n",
    "    matches = []\n",
    "    for line in note[\"lines\"]:\n",
    "        match = re.search(text, line)\n",
    "        if match:\n",
    "            start, end = match.span()\n",
    "            left = line[:start]\n",
    "            center = line[start:end]\n",
    "            right = line[end:]\n",
    "            matches.append((text, start, end, left, right, center, line))\n",
    "    return matches\n",
    "\n",
    "search_in_note_text(notes[0], \"Mets afloat\")"
   ]
  },
  {
   "cell_type": "code",
   "execution_count": 264,
   "metadata": {},
   "outputs": [
    {
     "name": "stdout",
     "output_type": "stream",
     "text": [
      "Notes about Trump 497\n",
      "--------------------\n",
      "http://www.nytimes.com/2016/06/30/us/politics/huma-abedin-hillary-clinton-emails.html\n",
      "2016/06/30 (2016, 6, 30)\n",
      "['us', 'politics'] us\n",
      "['huma', 'abedin', 'hillary', 'clinton', 'emails']\n",
      "--------------------\n",
      "http://www.nytimes.com/2016/06/30/us/politics/bernie-sanders.html\n",
      "2016/06/30 (2016, 6, 30)\n",
      "['us', 'politics'] us\n",
      "['bernie', 'sanders']\n",
      "--------------------\n",
      "http://www.nytimes.com/2016/06/30/us/politics/jay-faison-republicans-elections-climate-change.html\n",
      "2016/06/30 (2016, 6, 30)\n",
      "['us', 'politics'] us\n",
      "['jay', 'faison', 'republicans', 'elections', 'climate', 'change']\n",
      "--------------------\n",
      "http://www.nytimes.com/2016/06/30/us/politics/donald-trump-us-chamber-of-commerce-trade.html\n",
      "2016/06/30 (2016, 6, 30)\n",
      "['us', 'politics'] us\n",
      "['donald', 'trump', 'us', 'chamber', 'of', 'commerce', 'trade']\n",
      "--------------------\n",
      "http://www.nytimes.com/2016/06/30/us/politics/bill-clinton-mark-cuban.html\n",
      "2016/06/30 (2016, 6, 30)\n",
      "['us', 'politics'] us\n",
      "['bill', 'clinton', 'mark', 'cuban']\n"
     ]
    }
   ],
   "source": [
    "def search_in_notes(notes, text, mode=\"word\"):\n",
    "    notes_filtered = []\n",
    "    for note in notes:\n",
    "        if mode == \"text\":\n",
    "            matches = search_in_note_text(note, text)\n",
    "        elif mode == \"word\":\n",
    "            matches = search_in_note(note, text)\n",
    "        if len(matches) > 0:\n",
    "            notes_filtered.append((note, matches))\n",
    "    return notes_filtered\n",
    "\n",
    "notes_trump, notes_trump_matches = zip(*search_in_notes(notes_by_category(\"us\"), \"trump\"))\n",
    "\n",
    "print(\"Notes about Trump\", len(notes_trump))\n",
    "\n",
    "for note in notes_trump[:5]:\n",
    "    print(\"-\" * 20)\n",
    "    describe_note(note)"
   ]
  },
  {
   "cell_type": "code",
   "execution_count": 265,
   "metadata": {},
   "outputs": [
    {
     "name": "stdout",
     "output_type": "stream",
     "text": [
      "2016/04/18\n",
      "----------\n",
      "http://www.nytimes.com/2016/04/18/us/politics/donald-trump-delegates-new-york.html\n",
      "http://www.nytimes.com/2016/04/18/us/politics/ted-cruz-conservative.html\n",
      "http://www.nytimes.com/2016/04/18/us/politics/battle-for-senate.html\n",
      "\n",
      "2016/04/19\n",
      "----------\n",
      "http://www.nytimes.com/2016/04/19/us/carnivals-maiden-voyage-to-cuba-draws-ire-and-bias-charges.html\n",
      "http://www.nytimes.com/2016/04/19/us/politics/pressure-on-donald-trump-and-hillary-clinton-to-shine-at-home.html\n",
      "http://www.nytimes.com/2016/04/19/us/politics/potential-gop-convention-fight-puts-older-hands-in-sudden-demand.html\n",
      "http://www.nytimes.com/2016/04/19/us/panel-would-make-insurers-help-contain-rising-drug-costs.html\n",
      "http://www.nytimes.com/2016/04/19/us/politics/donald-trump-central-park-south.html\n",
      "http://www.nytimes.com/2016/04/19/us/politics/new-york-primary-trump-clinton-sanders.html\n",
      "http://www.nytimes.com/2016/04/19/us/politics/supreme-court-immigration.html\n",
      "\n"
     ]
    }
   ],
   "source": [
    "def notes_timeline(notes):\n",
    "    timeline = {}\n",
    "    years = list(set([note[\"at_year\"] for note in notes]))\n",
    "    for year in years:\n",
    "        notes_in_year = list(filter(lambda note: note[\"at_year\"] == year, notes))\n",
    "        months = list(set([note[\"at_month\"] for note in notes_in_year]))\n",
    "        for month in months:\n",
    "            notes_in_month = list(filter(lambda note: note[\"at_month\"] == month, notes_in_year))\n",
    "            days = list(set([note[\"at_day\"] for note in notes_in_month]))\n",
    "            for day in days:\n",
    "                notes_in_day = list(filter(lambda note: note[\"at_day\"] == day, notes_in_month))\n",
    "                date = \"{:04d}/{:02d}/{:02d}\".format(year, month, day)\n",
    "                #print(date)\n",
    "                timeline[date] = notes_in_day\n",
    "    return timeline\n",
    "    \n",
    "notes_trump_timeline = notes_timeline(notes_trump)\n",
    "\n",
    "count = 0\n",
    "for date in notes_trump_timeline:\n",
    "    if count > 5:\n",
    "        continue\n",
    "    notes_in_date = notes_trump_timeline[date]\n",
    "    print(date)\n",
    "    print(\"-\" * 10)\n",
    "    for note in notes_in_date:\n",
    "        print(note[\"link\"])\n",
    "        count += 1\n",
    "    print()"
   ]
  },
  {
   "cell_type": "code",
   "execution_count": 266,
   "metadata": {},
   "outputs": [
    {
     "name": "stdout",
     "output_type": "stream",
     "text": [
      "2016/04/18\n",
      "----------\n",
      "http://www.nytimes.com/2016/04/18/us/politics/donald-trump-delegates-new-york.html\n",
      "['Boeing', 'Brownsville', 'Sunday', 'During', 'And', 'Obama', 'In Mount Vernon', 'In Brownsville', 'Baptist', 'Donald'] ...\n",
      "http://www.nytimes.com/2016/04/18/us/politics/ted-cruz-conservative.html\n",
      "['Texas', 'Frank Capra', 'Princeton University', 'Yet', 'There’s', 'George', 'Barry Goldwater', 'Being', 'And', 'Frank'] ...\n",
      "http://www.nytimes.com/2016/04/18/us/politics/battle-for-senate.html\n",
      "['She', 'Former Representative Tom Davis', 'In', 'Republicans', 'Reid', 'Joe Heck', 'Garland', 'But', 'There', 'President Obama’s Supreme Court'] ...\n",
      "\n",
      "2016/04/19\n",
      "----------\n",
      "http://www.nytimes.com/2016/04/19/us/carnivals-maiden-voyage-to-cuba-draws-ire-and-bias-charges.html\n",
      "['She', 'Doral', 'In', 'Republicans', 'Tunisia', 'As', 'Americans', 'Last', 'Francisco Marty', 'In Miami'] ...\n",
      "http://www.nytimes.com/2016/04/19/us/politics/pressure-on-donald-trump-and-hillary-clinton-to-shine-at-home.html\n",
      "['Hillary Clinton', 'Tuesday', 'After', 'Texas', 'New York', 'Polls', 'There', 'Schenectady', 'Queens', 'But Donald'] ...\n",
      "http://www.nytimes.com/2016/04/19/us/politics/potential-gop-convention-fight-puts-older-hands-in-sudden-demand.html\n",
      "['Texas', 'Paul Manafort', 'John Kasich’s', 'And', 'Cleveland', 'Rockefeller', 'That', 'Manafort', 'Maison Blanche', 'Those'] ...\n",
      "http://www.nytimes.com/2016/04/19/us/panel-would-make-insurers-help-contain-rising-drug-costs.html\n",
      "['Hillary Clinton', 'She', 'Allyson Funk', 'Clare Krusing', 'The Obama', 'As', 'Dal', 'But', 'Americans', 'July'] ...\n",
      "http://www.nytimes.com/2016/04/19/us/politics/donald-trump-central-park-south.html\n",
      "['She', 'Now', 'In', 'New York', 'Barbizon Plaza Hotel', 'Grand Hyatt New York', 'As', 'Rockettes', 'Grand Central Terminal', 'But'] ...\n",
      "http://www.nytimes.com/2016/04/19/us/politics/new-york-primary-trump-clinton-sanders.html\n",
      "['Tuesday', 'Sunday', 'Finally', 'New York Times', 'And', 'Western New York', 'Donald', 'Maryland', 'Staten Island', 'Vermont'] ...\n",
      "http://www.nytimes.com/2016/04/19/us/politics/supreme-court-immigration.html\n",
      "['Chief Justice Roberts', 'Texas', 'Republicans', 'In', 'Keller', 'But', 'Parents', 'Americans', 'Solicitor General Donald', 'But Justice Elena Kagan'] ...\n",
      "\n"
     ]
    }
   ],
   "source": [
    "def note_extract_actors(note):\n",
    "    actors = []\n",
    "    for line in note[\"lines\"]:\n",
    "        for match in re.finditer(\"[A-Z][a-z'’]+(\\s+[A-Z][a-z'’]+)*\", line):\n",
    "            actors.append(match.group(0))\n",
    "    return list(set(actors))\n",
    "            \n",
    "trump_actors = []\n",
    "    \n",
    "for date in notes_trump_timeline:\n",
    "    notes_in_date = notes_trump_timeline[date]\n",
    "    for note in notes_in_date:\n",
    "        note[\"actors\"] = note_extract_actors(note)\n",
    "        trump_actors.extend(note[\"actors\"])\n",
    "    \n",
    "count = 0\n",
    "for date in notes_trump_timeline:\n",
    "    if count > 5:\n",
    "        continue\n",
    "    notes_in_date = notes_trump_timeline[date]\n",
    "    print(date)\n",
    "    print(\"-\" * 10)\n",
    "    for note in notes_in_date:\n",
    "        count += 1\n",
    "        print(note[\"link\"])\n",
    "        print(note[\"actors\"][:10], \"...\")\n",
    "    print()\n",
    "    \n",
    "trump_actors = list(set(trump_actors))\n",
    "\n",
    "trump_actors = list(zip(trump_actors, map(lambda actor: len(actor), trump_actors)))\n",
    "\n",
    "trump_actors.sort(reverse=True, key=lambda t: t[1])"
   ]
  },
  {
   "cell_type": "code",
   "execution_count": 267,
   "metadata": {},
   "outputs": [
    {
     "data": {
      "text/plain": [
       "['Senator Shelley Moore Capito',\n",
       " 'Senator Sheldon Whitehouse',\n",
       " 'Senator Kirsten Gillibrand',\n",
       " 'Senator Richard Blumenthal',\n",
       " 'Senator Bernie Sanders’s',\n",
       " 'Senator Elizabeth Warren',\n",
       " 'Senator Dianne Feinstein',\n",
       " 'Senator Everett Dirksen',\n",
       " 'Senator Lamar Alexander',\n",
       " 'Senator Barry Goldwater']"
      ]
     },
     "execution_count": 267,
     "metadata": {},
     "output_type": "execute_result"
    }
   ],
   "source": [
    "trump_senators = [actor for actor, size in trump_actors if re.search(\"^senator\\s\", actor.lower())]\n",
    "\n",
    "trump_senators[:10]"
   ]
  },
  {
   "cell_type": "code",
   "execution_count": 268,
   "metadata": {},
   "outputs": [
    {
     "data": {
      "text/plain": [
       "[2, 1, 1, 2, 7, 28, 8, 1, 3, 10]"
      ]
     },
     "execution_count": 268,
     "metadata": {},
     "output_type": "execute_result"
    }
   ],
   "source": [
    "trump_senators_rate = [len(search_in_notes(notes_trump, senator.replace(\"Senator \", \"\"), mode=\"text\")) for senator in trump_senators]\n",
    "\n",
    "trump_senators_rate[:10]"
   ]
  },
  {
   "cell_type": "code",
   "execution_count": 269,
   "metadata": {},
   "outputs": [
    {
     "data": {
      "text/plain": [
       "[('Senator Sanders', 158),\n",
       " ('Senator Bernie Sanders', 156),\n",
       " ('Senator Cruz', 98),\n",
       " ('Senator Ted Cruz', 95),\n",
       " ('Senator Rubio', 49)]"
      ]
     },
     "execution_count": 269,
     "metadata": {},
     "output_type": "execute_result"
    }
   ],
   "source": [
    "trump_top_senators = list(zip(trump_senators, trump_senators_rate))\n",
    "\n",
    "trump_top_senators.sort(reverse=True, key=lambda t: t[1])\n",
    "\n",
    "trump_top_senators[:5]"
   ]
  },
  {
   "cell_type": "markdown",
   "metadata": {},
   "source": [
    "## Visualización de datos"
   ]
  },
  {
   "cell_type": "code",
   "execution_count": 270,
   "metadata": {},
   "outputs": [
    {
     "data": {
      "image/png": "[encoded data removed]",
      "text/plain": [
       "<Figure size 432x288 with 1 Axes>"
      ]
     },
     "metadata": {
      "needs_background": "light"
     },
     "output_type": "display_data"
    }
   ],
   "source": [
    "import matplotlib.pyplot as plt\n",
    "\n",
    "x, y = zip(*trump_top_senators)\n",
    "\n",
    "plt.bar(x[:20], y[:20])\n",
    "plt.xticks(rotation=\"vertical\")\n",
    "\n",
    "plt.show()"
   ]
  },
  {
   "cell_type": "code",
   "execution_count": 271,
   "metadata": {},
   "outputs": [
    {
     "data": {
      "image/png": "[encoded data removed]",
      "text/plain": [
       "<Figure size 432x288 with 1 Axes>"
      ]
     },
     "metadata": {},
     "output_type": "display_data"
    }
   ],
   "source": [
    "senators_raw, rate_raw = zip(*trump_top_senators)\n",
    "\n",
    "ix = [0, 2, 4, 6, 7, 8, 9, 12, 13, 14, 16, 17, 18, 19, 20]\n",
    "\n",
    "senators = [senators_raw[i] for i in ix]\n",
    "rate = [rate_raw[i] for i in ix]\n",
    "\n",
    "weights = rate\n",
    "labels = senators\n",
    "\n",
    "plt.pie(weights, labels=labels)\n",
    "\n",
    "my_circle=plt.Circle( (0,0), 0.7, color=\"white\")\n",
    "\n",
    "p = plt.gcf()\n",
    "p.gca().add_artist(my_circle)\n",
    "\n",
    "plt.show()"
   ]
  },
  {
   "cell_type": "markdown",
   "metadata": {},
   "source": [
    "## Automatización de datos"
   ]
  },
  {
   "cell_type": "markdown",
   "metadata": {},
   "source": [
    "### Tabla de datos"
   ]
  },
  {
   "cell_type": "code",
   "execution_count": 272,
   "metadata": {},
   "outputs": [
    {
     "data": {
      "text/html": [
       "<div>\n",
       "<style scoped>\n",
       "    .dataframe tbody tr th:only-of-type {\n",
       "        vertical-align: middle;\n",
       "    }\n",
       "\n",
       "    .dataframe tbody tr th {\n",
       "        vertical-align: top;\n",
       "    }\n",
       "\n",
       "    .dataframe thead th {\n",
       "        text-align: right;\n",
       "    }\n",
       "</style>\n",
       "<table border=\"1\" class=\"dataframe\">\n",
       "  <thead>\n",
       "    <tr style=\"text-align: right;\">\n",
       "      <th></th>\n",
       "      <th>Senator</th>\n",
       "      <th>Rate</th>\n",
       "    </tr>\n",
       "  </thead>\n",
       "  <tbody>\n",
       "    <tr>\n",
       "      <th>76</th>\n",
       "      <td>Senator Sanders</td>\n",
       "      <td>158</td>\n",
       "    </tr>\n",
       "    <tr>\n",
       "      <th>12</th>\n",
       "      <td>Senator Bernie Sanders</td>\n",
       "      <td>156</td>\n",
       "    </tr>\n",
       "    <tr>\n",
       "      <th>89</th>\n",
       "      <td>Senator Cruz</td>\n",
       "      <td>98</td>\n",
       "    </tr>\n",
       "    <tr>\n",
       "      <th>68</th>\n",
       "      <td>Senator Ted Cruz</td>\n",
       "      <td>95</td>\n",
       "    </tr>\n",
       "    <tr>\n",
       "      <th>84</th>\n",
       "      <td>Senator Rubio</td>\n",
       "      <td>49</td>\n",
       "    </tr>\n",
       "    <tr>\n",
       "      <th>40</th>\n",
       "      <td>Senator Marco Rubio</td>\n",
       "      <td>48</td>\n",
       "    </tr>\n",
       "    <tr>\n",
       "      <th>26</th>\n",
       "      <td>Senator Barack Obama</td>\n",
       "      <td>40</td>\n",
       "    </tr>\n",
       "    <tr>\n",
       "      <th>87</th>\n",
       "      <td>Senator Mark</td>\n",
       "      <td>39</td>\n",
       "    </tr>\n",
       "    <tr>\n",
       "      <th>74</th>\n",
       "      <td>Senator Richard</td>\n",
       "      <td>36</td>\n",
       "    </tr>\n",
       "    <tr>\n",
       "      <th>72</th>\n",
       "      <td>Senator John Mc</td>\n",
       "      <td>35</td>\n",
       "    </tr>\n",
       "  </tbody>\n",
       "</table>\n",
       "</div>"
      ],
      "text/plain": [
       "                   Senator  Rate\n",
       "76         Senator Sanders   158\n",
       "12  Senator Bernie Sanders   156\n",
       "89            Senator Cruz    98\n",
       "68        Senator Ted Cruz    95\n",
       "84           Senator Rubio    49\n",
       "40     Senator Marco Rubio    48\n",
       "26    Senator Barack Obama    40\n",
       "87            Senator Mark    39\n",
       "74         Senator Richard    36\n",
       "72         Senator John Mc    35"
      ]
     },
     "execution_count": 272,
     "metadata": {},
     "output_type": "execute_result"
    }
   ],
   "source": [
    "import pandas as pd\n",
    "\n",
    "df = pd.DataFrame(list(zip(trump_senators, trump_senators_rate)), columns=[\"Senator\", \"Rate\"])\n",
    "\n",
    "df = df.sort_values(by=[\"Rate\"], ascending=False)\n",
    "\n",
    "df.head(10)"
   ]
  },
  {
   "cell_type": "markdown",
   "metadata": {},
   "source": [
    "### Exportación a excel"
   ]
  },
  {
   "cell_type": "code",
   "execution_count": 273,
   "metadata": {},
   "outputs": [],
   "source": [
    "writer = pd.ExcelWriter(\"trump_senators.xlsx\", engine=\"xlsxwriter\")\n",
    "\n",
    "df.to_excel(writer, sheet_name=\"Senators Rate\")\n",
    "\n",
    "writer.save()"
   ]
  },
  {
   "cell_type": "markdown",
   "metadata": {},
   "source": [
    "### Reporte PDF"
   ]
  },
  {
   "cell_type": "code",
   "execution_count": 274,
   "metadata": {},
   "outputs": [
    {
     "name": "stdout",
     "output_type": "stream",
     "text": [
      "Requirement already satisfied: reportlab in /Users/dragon/anaconda3/lib/python3.7/site-packages (3.5.55)\n",
      "Requirement already satisfied: pillow>=4.0.0 in /Users/dragon/anaconda3/lib/python3.7/site-packages (from reportlab) (5.4.1)\n"
     ]
    }
   ],
   "source": [
    "! pip install reportlab"
   ]
  },
  {
   "cell_type": "code",
   "execution_count": 275,
   "metadata": {},
   "outputs": [
    {
     "name": "stdout",
     "output_type": "stream",
     "text": [
      "Name: reportlab\n",
      "Version: 3.5.55\n",
      "Summary: The Reportlab Toolkit\n",
      "Home-page: http://www.reportlab.com/\n",
      "Author: Andy Robinson, Robin Becker, the ReportLab team and the community\n",
      "Author-email: reportlab-users@lists2.reportlab.com\n",
      "License: BSD license (see license.txt for details), Copyright (c) 2000-2018, ReportLab Inc.\n",
      "Location: /Users/dragon/anaconda3/lib/python3.7/site-packages\n",
      "Requires: pillow\n",
      "Required-by: svglib\n"
     ]
    }
   ],
   "source": [
    "! pip show reportlab"
   ]
  },
  {
   "cell_type": "code",
   "execution_count": 276,
   "metadata": {},
   "outputs": [
    {
     "name": "stdout",
     "output_type": "stream",
     "text": [
      "Requirement already satisfied: svglib in /Users/dragon/anaconda3/lib/python3.7/site-packages (1.0.1)\n",
      "Requirement already satisfied: reportlab in /Users/dragon/anaconda3/lib/python3.7/site-packages (from svglib) (3.5.55)\n",
      "Requirement already satisfied: cssselect2>=0.2.0 in /Users/dragon/anaconda3/lib/python3.7/site-packages (from svglib) (0.4.1)\n",
      "Requirement already satisfied: lxml in /Users/dragon/anaconda3/lib/python3.7/site-packages (from svglib) (4.3.2)\n",
      "Requirement already satisfied: tinycss2>=0.6.0 in /Users/dragon/anaconda3/lib/python3.7/site-packages (from svglib) (1.1.0)\n",
      "Requirement already satisfied: pillow>=4.0.0 in /Users/dragon/anaconda3/lib/python3.7/site-packages (from reportlab->svglib) (5.4.1)\n",
      "Requirement already satisfied: webencodings in /Users/dragon/anaconda3/lib/python3.7/site-packages (from cssselect2>=0.2.0->svglib) (0.5.1)\n"
     ]
    }
   ],
   "source": [
    "! pip install svglib"
   ]
  },
  {
   "cell_type": "code",
   "execution_count": 277,
   "metadata": {},
   "outputs": [
    {
     "name": "stdout",
     "output_type": "stream",
     "text": [
      "Name: svglib\n",
      "Version: 1.0.1\n",
      "Summary: A pure-Python library for reading and converting SVG\n",
      "Home-page: https://github.com/deeplook/svglib\n",
      "Author: Dinu Gherman\n",
      "Author-email: gherman@darwin.in-berlin.de\n",
      "License: LGPL 3\n",
      "Location: /Users/dragon/anaconda3/lib/python3.7/site-packages\n",
      "Requires: tinycss2, cssselect2, reportlab, lxml\n",
      "Required-by: \n"
     ]
    }
   ],
   "source": [
    "! pip show svglib"
   ]
  },
  {
   "cell_type": "code",
   "execution_count": 278,
   "metadata": {},
   "outputs": [
    {
     "data": {
      "image/png": "[encoded data removed]",
      "text/plain": [
       "<Figure size 432x288 with 1 Axes>"
      ]
     },
     "metadata": {},
     "output_type": "display_data"
    }
   ],
   "source": [
    "import matplotlib.pyplot as plt\n",
    "from io import BytesIO\n",
    "from reportlab.pdfgen import canvas\n",
    "from reportlab.graphics import renderPDF\n",
    "from svglib.svglib import svg2rlg\n",
    "\n",
    "senators_raw, rate_raw = zip(*trump_top_senators)\n",
    "\n",
    "ix = [0, 2, 4, 6, 7, 8, 9, 12, 13, 14, 16, 17, 18, 19, 20]\n",
    "\n",
    "senators = [senators_raw[i] for i in ix]\n",
    "rate = [rate_raw[i] for i in ix]\n",
    "\n",
    "weights = rate\n",
    "labels = senators\n",
    "\n",
    "plt.pie(weights, labels=labels)\n",
    "\n",
    "my_circle=plt.Circle( (0,0), 0.7, color=\"white\")\n",
    "\n",
    "p = plt.gcf()\n",
    "p.gca().add_artist(my_circle)\n",
    "\n",
    "imgdata = BytesIO()\n",
    "plt.savefig(imgdata, format=\"svg\")\n",
    "imgdata.seek(0)\n",
    "\n",
    "drawing = svg2rlg(imgdata)\n",
    "\n",
    "pdf = canvas.Canvas(\"Trump report.pdf\")\n",
    "\n",
    "renderPDF.draw(drawing, pdf, 10, 300)\n",
    "pdf.drawString(210, 640, \"Trump Report - Senator Rating\")\n",
    "\n",
    "pdf.showPage()\n",
    "\n",
    "pdf.save()"
   ]
  },
  {
   "cell_type": "code",
   "execution_count": null,
   "metadata": {},
   "outputs": [],
   "source": []
  }
 ],
 "metadata": {
  "kernelspec": {
   "display_name": "Python 3",
   "language": "python",
   "name": "python3"
  },
  "language_info": {
   "codemirror_mode": {
    "name": "ipython",
    "version": 3
   },
   "file_extension": ".py",
   "mimetype": "text/x-python",
   "name": "python",
   "nbconvert_exporter": "python",
   "pygments_lexer": "ipython3",
   "version": "3.7.3"
  }
 },
 "nbformat": 4,
 "nbformat_minor": 2
}
